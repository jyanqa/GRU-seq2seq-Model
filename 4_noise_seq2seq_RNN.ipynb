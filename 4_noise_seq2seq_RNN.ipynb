{
  "cells": [
    {
      "cell_type": "code",
      "execution_count": 1,
      "metadata": {
        "colab": {
          "base_uri": "https://localhost:8080/"
        },
        "collapsed": true,
        "id": "A3Bbm9MSP6Yk",
        "outputId": "06743a86-1af2-41fb-d724-8385e537d304"
      },
      "outputs": [
        {
          "output_type": "stream",
          "name": "stdout",
          "text": [
            "Sat Jan 15 09:46:52 2022       \n",
            "+-----------------------------------------------------------------------------+\n",
            "| NVIDIA-SMI 495.46       Driver Version: 460.32.03    CUDA Version: 11.2     |\n",
            "|-------------------------------+----------------------+----------------------+\n",
            "| GPU  Name        Persistence-M| Bus-Id        Disp.A | Volatile Uncorr. ECC |\n",
            "| Fan  Temp  Perf  Pwr:Usage/Cap|         Memory-Usage | GPU-Util  Compute M. |\n",
            "|                               |                      |               MIG M. |\n",
            "|===============================+======================+======================|\n",
            "|   0  Tesla P100-PCIE...  Off  | 00000000:00:04.0 Off |                    0 |\n",
            "| N/A   32C    P0    26W / 250W |      0MiB / 16280MiB |      0%      Default |\n",
            "|                               |                      |                  N/A |\n",
            "+-------------------------------+----------------------+----------------------+\n",
            "                                                                               \n",
            "+-----------------------------------------------------------------------------+\n",
            "| Processes:                                                                  |\n",
            "|  GPU   GI   CI        PID   Type   Process name                  GPU Memory |\n",
            "|        ID   ID                                                   Usage      |\n",
            "|=============================================================================|\n",
            "|  No running processes found                                                 |\n",
            "+-----------------------------------------------------------------------------+\n"
          ]
        }
      ],
      "source": [
        "!nvidia-smi"
      ]
    },
    {
      "cell_type": "markdown",
      "metadata": {
        "id": "CuNqn2TkS1T5"
      },
      "source": [
        "## Load dependencies"
      ]
    },
    {
      "cell_type": "code",
      "execution_count": 2,
      "metadata": {
        "colab": {
          "base_uri": "https://localhost:8080/"
        },
        "collapsed": true,
        "id": "PBEAq9r9wMRI",
        "outputId": "5fe2313f-87b4-4b24-c75a-4433753ed45d"
      },
      "outputs": [
        {
          "output_type": "stream",
          "name": "stdout",
          "text": [
            "Collecting torchtext==0.6.0\n",
            "  Downloading torchtext-0.6.0-py3-none-any.whl (64 kB)\n",
            "\u001b[?25l\r\u001b[K     |█████                           | 10 kB 43.2 MB/s eta 0:00:01\r\u001b[K     |██████████▏                     | 20 kB 7.9 MB/s eta 0:00:01\r\u001b[K     |███████████████▎                | 30 kB 7.1 MB/s eta 0:00:01\r\u001b[K     |████████████████████▍           | 40 kB 6.9 MB/s eta 0:00:01\r\u001b[K     |█████████████████████████▌      | 51 kB 3.9 MB/s eta 0:00:01\r\u001b[K     |██████████████████████████████▋ | 61 kB 4.2 MB/s eta 0:00:01\r\u001b[K     |████████████████████████████████| 64 kB 2.0 MB/s \n",
            "\u001b[?25hRequirement already satisfied: torch in /usr/local/lib/python3.7/dist-packages (from torchtext==0.6.0) (1.10.0+cu111)\n",
            "Collecting sentencepiece\n",
            "  Downloading sentencepiece-0.1.96-cp37-cp37m-manylinux_2_17_x86_64.manylinux2014_x86_64.whl (1.2 MB)\n",
            "\u001b[K     |████████████████████████████████| 1.2 MB 8.2 MB/s \n",
            "\u001b[?25hRequirement already satisfied: numpy in /usr/local/lib/python3.7/dist-packages (from torchtext==0.6.0) (1.19.5)\n",
            "Requirement already satisfied: tqdm in /usr/local/lib/python3.7/dist-packages (from torchtext==0.6.0) (4.62.3)\n",
            "Requirement already satisfied: six in /usr/local/lib/python3.7/dist-packages (from torchtext==0.6.0) (1.15.0)\n",
            "Requirement already satisfied: requests in /usr/local/lib/python3.7/dist-packages (from torchtext==0.6.0) (2.23.0)\n",
            "Requirement already satisfied: urllib3!=1.25.0,!=1.25.1,<1.26,>=1.21.1 in /usr/local/lib/python3.7/dist-packages (from requests->torchtext==0.6.0) (1.24.3)\n",
            "Requirement already satisfied: idna<3,>=2.5 in /usr/local/lib/python3.7/dist-packages (from requests->torchtext==0.6.0) (2.10)\n",
            "Requirement already satisfied: certifi>=2017.4.17 in /usr/local/lib/python3.7/dist-packages (from requests->torchtext==0.6.0) (2021.10.8)\n",
            "Requirement already satisfied: chardet<4,>=3.0.2 in /usr/local/lib/python3.7/dist-packages (from requests->torchtext==0.6.0) (3.0.4)\n",
            "Requirement already satisfied: typing-extensions in /usr/local/lib/python3.7/dist-packages (from torch->torchtext==0.6.0) (3.10.0.2)\n",
            "Installing collected packages: sentencepiece, torchtext\n",
            "  Attempting uninstall: torchtext\n",
            "    Found existing installation: torchtext 0.11.0\n",
            "    Uninstalling torchtext-0.11.0:\n",
            "      Successfully uninstalled torchtext-0.11.0\n",
            "Successfully installed sentencepiece-0.1.96 torchtext-0.6.0\n"
          ]
        }
      ],
      "source": [
        "!pip install torchtext==0.6.0"
      ]
    },
    {
      "cell_type": "code",
      "execution_count": 3,
      "metadata": {
        "id": "dfQk37UUQi2T"
      },
      "outputs": [],
      "source": [
        "!pip install tqdm --upgrade >> /dev/null 2>&1\n",
        "#!pip install torchtext --upgrade >> /dev/null 2>&1\n",
        "!pip install spacy --upgrade >> /dev/null 2>&1\n",
        "!python -m spacy download de >> /dev/null 2>&1\n",
        "!python -m spacy download en >> /dev/null 2>&1"
      ]
    },
    {
      "cell_type": "code",
      "execution_count": 4,
      "metadata": {
        "id": "zku7rzrTSE1j"
      },
      "outputs": [],
      "source": [
        "import tqdm\n",
        "import spacy\n",
        "import warnings\n",
        "import numpy as np\n",
        "import pandas as pd\n",
        "import matplotlib.pyplot as plt\n",
        "%matplotlib inline\n",
        "\n",
        "from IPython.core.display import display, HTML\n",
        "\n",
        "import torch\n",
        "import torch.nn as nn\n",
        "import torch.nn.functional as F\n",
        "import torch.optim as optim\n",
        "\n",
        "from torchtext.data import Dataset, Example, Field\n",
        "from torchtext.data.iterator import BucketIterator\n",
        "from torchtext.data.metrics import bleu_score\n",
        "from torchtext.datasets import Multi30k"
      ]
    },
    {
      "cell_type": "code",
      "execution_count": 5,
      "metadata": {
        "id": "-rfDBpyrS7Pq",
        "colab": {
          "base_uri": "https://localhost:8080/"
        },
        "outputId": "beba08e9-91af-402a-b461-e920ce5074d8"
      },
      "outputs": [
        {
          "output_type": "stream",
          "name": "stdout",
          "text": [
            "Device: cuda\n"
          ]
        }
      ],
      "source": [
        "warnings.simplefilter(action='ignore', category=UserWarning)\n",
        "warnings.simplefilter(action='ignore', category=FutureWarning)\n",
        "warnings.simplefilter(action='ignore', category=DeprecationWarning)\n",
        "\n",
        "SEED = 546\n",
        "np.random.seed(SEED)\n",
        "torch.manual_seed(SEED)\n",
        "torch.cuda.manual_seed(SEED)\n",
        "torch.backends.cudnn.deterministic = True\n",
        "\n",
        "DEVICE = torch.device('cuda' if torch.cuda.is_available() else 'cpu')\n",
        "print(f'Device: {DEVICE}')"
      ]
    },
    {
      "cell_type": "code",
      "execution_count": 6,
      "metadata": {
        "id": "pFrpUtp8cMPw",
        "colab": {
          "base_uri": "https://localhost:8080/"
        },
        "outputId": "b0288aa7-eb0e-481c-e3ce-bb78a73283ae"
      },
      "outputs": [
        {
          "output_type": "stream",
          "name": "stdout",
          "text": [
            "Mounted at /content/drive\n",
            "0_no_noise  1_noise  2_noise  3_noise  4_noise\t5_noise  6_noise  7_noise\n"
          ]
        }
      ],
      "source": [
        "from google.colab import drive\n",
        "drive.mount('/content/drive',force_remount=True)\n",
        "!ls '/content/drive/MyDrive/data_europarl/'"
      ]
    },
    {
      "cell_type": "markdown",
      "metadata": {
        "id": "Qfjuxu1QTtoP"
      },
      "source": [
        "#### Build vocabularies"
      ]
    },
    {
      "cell_type": "code",
      "execution_count": 7,
      "metadata": {
        "id": "1GPY7yEdf3pL",
        "colab": {
          "base_uri": "https://localhost:8080/"
        },
        "outputId": "ddaf191c-e5b7-4e77-db69-d22003dfd4fb"
      },
      "outputs": [
        {
          "output_type": "stream",
          "name": "stdout",
          "text": [
            "train set size: 29,824\n",
            "valid set size: 996\n",
            "test set size: 987\n",
            "CPU times: user 718 ms, sys: 70.3 ms, total: 788 ms\n",
            "Wall time: 6.51 s\n"
          ]
        }
      ],
      "source": [
        "%%time\n",
        "FR_TEXT = Field(lower=True,  tokenizer_language='fr', include_lengths=True)\n",
        "EN_TEXT = Field(init_token='<sos>', eos_token='<eos>', lower=True, tokenizer_language='en', include_lengths=True)\n",
        "train, valid, test = Multi30k.splits(exts=('.fr', '.en'),  fields=(FR_TEXT, EN_TEXT), root = '/content/drive/MyDrive/data_europarl/4_noise')\n",
        "print(f'train set size: {len(train.examples):,}')\n",
        "print(f'valid set size: {len(valid.examples):,}')\n",
        "print(f'test set size: {len(test.examples):,}')\n",
        "# print(vars(DE))\n",
        "# print(vars(EN))"
      ]
    },
    {
      "cell_type": "code",
      "execution_count": 8,
      "metadata": {
        "id": "PvuBC8xKTZJf",
        "colab": {
          "base_uri": "https://localhost:8080/"
        },
        "outputId": "f4fac998-b9e3-4f7c-eb19-659d5bb9e364"
      },
      "outputs": [
        {
          "output_type": "stream",
          "name": "stdout",
          "text": [
            "Length of FR vocabulary: 24,663\n",
            "Length of EN vocabulary: 8,777\n",
            "CPU times: user 306 ms, sys: 7.02 ms, total: 313 ms\n",
            "Wall time: 311 ms\n"
          ]
        }
      ],
      "source": [
        "%%time\n",
        "MIN_COUNT = 2\n",
        "FR_TEXT.build_vocab(train, min_freq=MIN_COUNT, specials=['<unk>', '<pad>'])\n",
        "EN_TEXT.build_vocab(train, min_freq=MIN_COUNT, specials=['<sos>', '<eos>', '<unk>', '<pad>'])\n",
        "print(f'Length of FR vocabulary: {len(FR_TEXT.vocab):,}')\n",
        "print(f'Length of EN vocabulary: {len(EN_TEXT.vocab):,}')"
      ]
    },
    {
      "cell_type": "markdown",
      "metadata": {
        "id": "C1-SpXqDT72P"
      },
      "source": [
        "# Modeling 4\n",
        "data is added noise type 4"
      ]
    },
    {
      "cell_type": "markdown",
      "metadata": {
        "id": "LyEKiMbF8NfK"
      },
      "source": [
        "#### Encoder layer"
      ]
    },
    {
      "cell_type": "code",
      "execution_count": 9,
      "metadata": {
        "id": "QOZS6pPqT7Ba"
      },
      "outputs": [],
      "source": [
        "class EncoderLayer(nn.Module):\n",
        "\n",
        "    def __init__(self, vocab_size, embedding_size, hidden_size, n_layers, embedding_dropout, recurrent_dropout):\n",
        "        super(EncoderLayer, self).__init__()\n",
        "        self.vocab_size = vocab_size\n",
        "        self.embedding_size = embedding_size\n",
        "        self.hidden_size = hidden_size\n",
        "        self.n_layers = n_layers\n",
        "        self.embedding_dropout = embedding_dropout\n",
        "        self.recurrent_dropout = recurrent_dropout if n_layers > 1 else 0\n",
        "        self.embedding = nn.Embedding(vocab_size, embedding_size)\n",
        "        self.gru = nn.GRU(embedding_size, hidden_size, num_layers=n_layers, dropout=self.recurrent_dropout, bidirectional=True)\n",
        "\n",
        "    def forward(self, input_sequences, sequence_lengths):\n",
        "        \"\"\"\n",
        "        :param Tensor[seq_len, batch_size] input_sequences\n",
        "        :param Tensor[batch_size,] sequence_lengths\n",
        "        :return Tensor[n_layers * 2, batch_size, hidden_size] h_state\n",
        "        \"\"\"\n",
        "        embedded = self.embedding(input_sequences)\n",
        "        embedded = F.dropout(embedded, p=self.embedding_dropout)\n",
        "        packed = nn.utils.rnn.pack_padded_sequence(embedded, sequence_lengths.cpu())\n",
        "        _, h_state = self.gru(packed)\n",
        "        return h_state"
      ]
    },
    {
      "cell_type": "markdown",
      "metadata": {
        "id": "ALcFgkFzUMX3"
      },
      "source": [
        "#### Decoder layer"
      ]
    },
    {
      "cell_type": "code",
      "execution_count": 10,
      "metadata": {
        "id": "-MMyNs5aUOcM"
      },
      "outputs": [],
      "source": [
        "class DecoderLayer(nn.Module):\n",
        "\n",
        "    def __init__(self, vocab_size, embedding_size, hidden_size, n_layers, embedding_dropout, recurrent_dropout):\n",
        "        super(DecoderLayer, self).__init__()\n",
        "        self.vocab_size = vocab_size\n",
        "        self.embedding_size = embedding_size\n",
        "        self.hidden_size = hidden_size\n",
        "        self.n_layers = n_layers\n",
        "        self.embedding_dropout = embedding_dropout\n",
        "        self.recurrent_dropout = recurrent_dropout if n_layers > 1 else 0\n",
        "        self.embedding = nn.Embedding(vocab_size, embedding_size)\n",
        "        self.gru = nn.GRU(embedding_size, hidden_size, num_layers=n_layers, dropout=self.recurrent_dropout)\n",
        "        self.fc = nn.Linear(hidden_size, vocab_size)\n",
        "\n",
        "    def forward(self, input_word_index, h_state_prev):\n",
        "        \"\"\"\n",
        "        :param Tensor[batch_size,] input_word_index\n",
        "        :param Tensor[n_layers, batch_size, hidden_size] h_state_prev\n",
        "        :return Tensor[batch_size, vocab_size] logit\n",
        "        :return Tensor[n_layers, batch_size, hidden_size] h_state\n",
        "        \"\"\"\n",
        "        embedded = self.embedding(input_word_index.unsqueeze(0))\n",
        "        embedded = F.dropout(embedded, p=self.embedding_dropout)\n",
        "        outputs, h_state = self.gru(embedded, h_state_prev)\n",
        "        logit = self.fc(outputs.squeeze(0))\n",
        "        return logit, h_state"
      ]
    },
    {
      "cell_type": "markdown",
      "metadata": {
        "id": "eaB7LsPWUO94"
      },
      "source": [
        "#### Sequence-to-sequence model"
      ]
    },
    {
      "cell_type": "code",
      "execution_count": 11,
      "metadata": {
        "id": "Ttc82wRxUTuj"
      },
      "outputs": [],
      "source": [
        "class SeqToSeqNet(nn.Module):\n",
        "\n",
        "    def __init__(self, encoder, decoder, device):\n",
        "        assert encoder.n_layers == decoder.n_layers, 'Encoder and Decoder must have the same number of reccurent layers'\n",
        "        assert encoder.hidden_size == decoder.hidden_size, 'Encoder and Decoder must have the same number of reccurrent hidden units'\n",
        "        super(SeqToSeqNet, self).__init__()\n",
        "        self.encoder = encoder\n",
        "        self.decoder = decoder\n",
        "        self.device = device\n",
        "        self.init_h0 = nn.Linear(encoder.n_layers * 2, decoder.n_layers)\n",
        "\n",
        "    def encode(self, input_sequences, sequence_lengths):\n",
        "        h_state = self.encoder(input_sequences, sequence_lengths)\n",
        "        h_state = self.init_h0(h_state.permute(1, 2, 0)) # [batch_size, hidden_size, n_layers]\n",
        "        h_state = h_state.permute(2, 0, 1) # [n_layers, batch_size, hidden_size]\n",
        "        return h_state\n",
        "\n",
        "    def sort_batches(self, dest_sequences, dest_lengths, h_state):\n",
        "        sorted_dest_lengths, sorted_indices = torch.sort(dest_lengths, dim=0, descending=True)\n",
        "        sorted_dest_sequences = dest_sequences[:, sorted_indices]\n",
        "        h_state = h_state[:, sorted_indices, :]\n",
        "        # We won't decode at the <eos> position, since we've finished generating as soon as we generate <eos>.\n",
        "        # So, decoding lengths are actual lengths - 1\n",
        "        sorted_decode_lengths = (sorted_dest_lengths - 1).tolist() \n",
        "        return sorted_dest_sequences, sorted_decode_lengths, h_state\n",
        "\n",
        "    def decode(self, h_state, sorted_dest_sequences, sorted_decode_lengths, tf_ratio):\n",
        "        batch_size, last = sorted_dest_sequences.size(1), None\n",
        "        logits = torch.zeros(max(sorted_decode_lengths), batch_size, self.decoder.vocab_size).to(self.device)\n",
        "        for t in range(max(sorted_decode_lengths)):\n",
        "            batch_size_t = sum([l > t for l in sorted_decode_lengths])\n",
        "            if last is not None:\n",
        "                if np.random.rand() < tf_ratio:\n",
        "                    input_word_index = last[:batch_size_t] # in_ [batch_size,]\n",
        "                else:\n",
        "                    input_word_index = sorted_dest_sequences[t, :batch_size_t] # in_ [batch_size,]\n",
        "            else:\n",
        "                input_word_index = sorted_dest_sequences[t, :batch_size_t] # in_ [batch_size,]\n",
        "            logit, h_state = self.decoder(input_word_index, h_state[:, :batch_size_t, :].contiguous())\n",
        "            # logit: [batch_size, vocab_size] - h_state: [n_layers, batch_size, hidden_size]\n",
        "            logits[t, :batch_size_t, :] = logit\n",
        "            last = torch.argmax(F.softmax(logit, dim=1), dim=1) # [batch_size,]\n",
        "        return logits\n",
        "    \n",
        "    def forward(self, French_sequences, French_lengths, dest_sequences, dest_lengths, tf_ratio):\n",
        "        \"\"\"\n",
        "        :param Tensor[seq_len, batch_size] French_sequences\n",
        "        :param Tensor[batch_size,] French_lengths\n",
        "        :param Tensor[seq_len, batch_size] dest_sequences\n",
        "        :param Tensor[batch_size,] dest_lengths\n",
        "        :param float tf_ratio\n",
        "        :return Tensor[max(decode_lengths), batch_size, vocab_size] logits\n",
        "        :return Tensor[seq_len, batch_size] sorted_dest_sequences\n",
        "        :return list[max(decode_lengths) - 1] sorted_decode_lengths\n",
        "        \"\"\"\n",
        "        h_state = self.encode(French_sequences, French_lengths)\n",
        "        sorted_dest_sequences, sorted_decode_lengths, h_state = self.sort_batches(dest_sequences, dest_lengths, h_state)\n",
        "        logits = self.decode(h_state, sorted_dest_sequences, sorted_decode_lengths, tf_ratio)\n",
        "        return logits, sorted_dest_sequences, sorted_decode_lengths"
      ]
    },
    {
      "cell_type": "markdown",
      "metadata": {
        "id": "CzVIUeL2cAsz"
      },
      "source": [
        "#### Training routines"
      ]
    },
    {
      "cell_type": "code",
      "execution_count": 12,
      "metadata": {
        "id": "5VPQdzdrddUu"
      },
      "outputs": [],
      "source": [
        "class AverageMeter:\n",
        "    \n",
        "    def __init__(self):\n",
        "        self.value = 0.\n",
        "        self.sum = 0.\n",
        "        self.count = 0\n",
        "        self.average = 0.\n",
        "        \n",
        "    def reset(self):\n",
        "        self.value = 0.\n",
        "        self.sum = 0.\n",
        "        self.count = 0\n",
        "        self.average = 0.\n",
        "        \n",
        "    def update(self, value, n=1):\n",
        "        self.value = value\n",
        "        self.sum += value * n\n",
        "        self.count += n\n",
        "        self.average = self.sum / self.count"
      ]
    },
    {
      "cell_type": "code",
      "execution_count": 13,
      "metadata": {
        "id": "a4aTFulSfGTf"
      },
      "outputs": [],
      "source": [
        "def accuracy(outputs, target_sequences, k=5):\n",
        "    batch_size = outputs.size(1)\n",
        "    _, indices = outputs.topk(k, dim=1, largest=True, sorted=True)\n",
        "    correct = indices.eq(target_sequences.view(-1, 1).expand_as(indices))\n",
        "    correct_total = correct.view(-1).float().sum()  # 0D tensor\n",
        "    return correct_total.item() * (100.0 / batch_size)"
      ]
    },
    {
      "cell_type": "code",
      "execution_count": 14,
      "metadata": {
        "id": "hCsp-2Fvb_li"
      },
      "outputs": [],
      "source": [
        "class Trainer:\n",
        "\n",
        "    def __init__(self, model, optimizer, criterion, train_iterator, valid_iterator):\n",
        "        self.model = model\n",
        "        self.optimizer = optimizer\n",
        "        self.criterion = criterion\n",
        "        self.train_iterator = train_iterator\n",
        "        self.valid_iterator = valid_iterator\n",
        "\n",
        "    def clip_gradients(self, grad_clip):\n",
        "        if grad_clip is not None:\n",
        "            for group in self.optimizer.param_groups:\n",
        "                for param in group['params']:\n",
        "                    if param.grad is not None:\n",
        "                        param.grad.data.clamp_(-grad_clip, grad_clip)\n",
        "\n",
        "    def adjust_lr(self, shrink_factor=0.9, verbose=True):\n",
        "        if verbose:\n",
        "            print(\"\\nDecaying learning rate.\")\n",
        "        for param_group in self.optimizer.param_groups:\n",
        "            param_group['lr'] = param_group['lr'] * shrink_factor\n",
        "        if verbose:\n",
        "            print(\"The new learning rate is %f\\n\" % (self.optimizer.param_groups[0]['lr'],))\n",
        "    \n",
        "    def adjust_tf(self, tf_ratio, shrink_factor=0.9, verbose=False):\n",
        "        tf_ratio = tf_ratio * shrink_factor\n",
        "        if verbose:\n",
        "            print(\"The teacher forcing rate is %f\\n\" % (tf_ratio,))\n",
        "        return tf_ratio\n",
        "    \n",
        "    def train_step(self, epoch, grad_clip, tf_ratio):\n",
        "        loss_tracker, acc_tracker = AverageMeter(), AverageMeter()\n",
        "        self.model.train()\n",
        "        progress_bar = tqdm.tqdm(enumerate(self.train_iterator), total=len(self.train_iterator))\n",
        "        for i, data in progress_bar:\n",
        "            # if isPrinted == False:\n",
        "            #     print(data.French)\n",
        "            #     print(data.English)\n",
        "            #     isPrinted = True\n",
        "            # print(len(data.French))\n",
        "            logits, sorted_dest_sequences, sorted_decode_lengths = self.model(*data.src, *data.trg, tf_ratio=tf_ratio)\n",
        "            sorted_dest_sequences = sorted_dest_sequences[1:, :] # Since we decoded starting with <sos>, the targets are all words after <sos>, up to <eos>\n",
        "            logits = nn.utils.rnn.pack_padded_sequence(logits, sorted_decode_lengths).data # Remove paddings\n",
        "            sorted_dest_sequences = nn.utils.rnn.pack_padded_sequence(sorted_dest_sequences, sorted_decode_lengths).data # Remove paddings\n",
        "            loss = criterion(logits, sorted_dest_sequences)\n",
        "            optimizer.zero_grad()\n",
        "            loss.backward()\n",
        "            self.clip_gradients(grad_clip)\n",
        "            optimizer.step()\n",
        "            loss_tracker.update(loss.item(), sum(sorted_decode_lengths))\n",
        "            acc_tracker.update(accuracy(logits, sorted_dest_sequences), sum(sorted_decode_lengths))\n",
        "            loss_, ppl_, acc_ = loss_tracker.average, np.exp(loss_tracker.average), acc_tracker.average\n",
        "            progress_bar.set_description(f'Epoch: {epoch+1:02d} -     loss: {loss_:.3f} -     ppl: {ppl_:.3f} -     acc: {acc_:.3f}%')\n",
        "        return loss_tracker.average, np.exp(loss_tracker.average), acc_tracker.average\n",
        "    \n",
        "    def validate(self, epoch):\n",
        "        loss_tracker, acc_tracker = AverageMeter(), AverageMeter()\n",
        "        self.model.eval()\n",
        "        with torch.no_grad():\n",
        "            progress_bar = tqdm.tqdm(enumerate(self.valid_iterator), total=len(self.valid_iterator))\n",
        "            for i, data in progress_bar:\n",
        "                logits, sorted_dest_sequences, sorted_decode_lengths = self.model(*data.src, *data.trg, tf_ratio=0.)\n",
        "                sorted_dest_sequences = sorted_dest_sequences[1:, :]\n",
        "                logits = nn.utils.rnn.pack_padded_sequence(logits, sorted_decode_lengths).data\n",
        "                sorted_dest_sequences = nn.utils.rnn.pack_padded_sequence(sorted_dest_sequences, sorted_decode_lengths).data\n",
        "                loss = criterion(logits, sorted_dest_sequences)\n",
        "                loss_tracker.update(loss.item(), sum(sorted_decode_lengths))\n",
        "                acc_tracker.update(accuracy(logits, sorted_dest_sequences), sum(sorted_decode_lengths))\n",
        "                loss_, ppl_, acc_ = loss_tracker.average, np.exp(loss_tracker.average), acc_tracker.average\n",
        "                progress_bar.set_description(f'Epoch: {epoch+1:02d} - val_loss: {loss_:.3f} - val_ppl: {ppl_:.3f} - val_acc: {acc_:.3f}%')\n",
        "        return loss_tracker.average, np.exp(loss_tracker.average), acc_tracker.average\n",
        "    \n",
        "    def train(self, n_epochs, grad_clip, tf_ratio):\n",
        "        history = {'acc': [], 'loss': [], 'ppl': [], 'val_ppl': [], 'val_acc': [], 'val_loss': []}\n",
        "        best_loss, last_improv = np.inf, 0\n",
        "        for epoch in range(n_epochs):\n",
        "            if last_improv == 4:\n",
        "                print('Training Finished - The model has stopped improving since last 4 epochs')\n",
        "                break\n",
        "            if last_improv > 0:\n",
        "                self.adjust_lr()\n",
        "            loss, ppl, acc = self.train_step(epoch, grad_clip, tf_ratio)\n",
        "            val_loss, val_ppl, val_acc = self.validate(epoch)\n",
        "            tf_ratio = self.adjust_tf(tf_ratio)\n",
        "            \n",
        "            if best_loss > val_loss:\n",
        "                best_loss, last_improv = val_loss, 0\n",
        "                torch.save(self.model.state_dict(), 'seq2seq.pth')\n",
        "            else:\n",
        "                last_improv += 1\n",
        "                print(f'Last improvement since epoch {epoch - last_improv + 1}')\n",
        "            \n",
        "            history['acc'].append(acc)\n",
        "            history['ppl'].append(ppl)\n",
        "            history['loss'].append(loss)\n",
        "            history['val_acc'].append(val_acc)\n",
        "            history['val_ppl'].append(val_ppl)\n",
        "            history['val_loss'].append(val_loss)\n",
        "        return history"
      ]
    },
    {
      "cell_type": "markdown",
      "metadata": {
        "id": "adURzNzWkthV"
      },
      "source": [
        "#### Train the model"
      ]
    },
    {
      "cell_type": "code",
      "execution_count": 15,
      "metadata": {
        "id": "B9ghlNzJkrCH"
      },
      "outputs": [],
      "source": [
        "#hyper-params\n",
        "N_LAYERS = 2\n",
        "HIDDEN_SIZE = 256\n",
        "EMBED_SIZE = 300\n",
        "EMBED_DROPOUT = 0.25\n",
        "REC_DROPOUT = 0.25\n",
        "N_EPOCHS = 10\n",
        "BATCH_SIZE = 64\n",
        "LR = 1e-3\n",
        "GRAD_CLIP = 1.0\n",
        "TF_RATIO = 1.0"
      ]
    },
    {
      "cell_type": "code",
      "execution_count": 16,
      "metadata": {
        "id": "3N7Sttcdk39H",
        "colab": {
          "base_uri": "https://localhost:8080/"
        },
        "outputId": "64ae5657-19f5-4c78-a43a-ff65a9283e70"
      },
      "outputs": [
        {
          "output_type": "stream",
          "name": "stdout",
          "text": [
            "Number of parameters of the model: 15,150,803\n",
            "SeqToSeqNet(\n",
            "  (encoder): EncoderLayer(\n",
            "    (embedding): Embedding(24663, 300)\n",
            "    (gru): GRU(300, 256, num_layers=2, dropout=0.25, bidirectional=True)\n",
            "  )\n",
            "  (decoder): DecoderLayer(\n",
            "    (embedding): Embedding(8777, 300)\n",
            "    (gru): GRU(300, 256, num_layers=2, dropout=0.25)\n",
            "    (fc): Linear(in_features=256, out_features=8777, bias=True)\n",
            "  )\n",
            "  (init_h0): Linear(in_features=4, out_features=2, bias=True)\n",
            ")\n"
          ]
        }
      ],
      "source": [
        "encoder = EncoderLayer(vocab_size=len(FR_TEXT.vocab), embedding_size=EMBED_SIZE, hidden_size=HIDDEN_SIZE, n_layers=N_LAYERS,\n",
        "                       embedding_dropout=EMBED_DROPOUT, recurrent_dropout=REC_DROPOUT)\n",
        "decoder = DecoderLayer(vocab_size=len(EN_TEXT.vocab), embedding_size=EMBED_SIZE, hidden_size=HIDDEN_SIZE, n_layers=N_LAYERS,\n",
        "                       embedding_dropout=EMBED_DROPOUT, recurrent_dropout=REC_DROPOUT)\n",
        "seq2seq = SeqToSeqNet(encoder=encoder, decoder=decoder, device=DEVICE).to(DEVICE)\n",
        "optimizer = optim.RMSprop(params=seq2seq.parameters(), lr=LR)\n",
        "criterion = nn.CrossEntropyLoss()\n",
        "print(f'Number of parameters of the model: {sum(p.numel() for p in seq2seq.parameters() if p.requires_grad):,}')\n",
        "print(seq2seq)\n",
        "train_iterator, valid_iterator, test_iterator =  BucketIterator.splits((train, valid, test),\n",
        "                                                                       batch_size=BATCH_SIZE,\n",
        "                                                                       sort_key=lambda x: len(x.src),\n",
        "                                                                       sort_within_batch=True, device=DEVICE)\n",
        "trainer = Trainer(model=seq2seq, optimizer=optimizer, criterion=criterion, train_iterator=train_iterator, valid_iterator=valid_iterator)"
      ]
    },
    {
      "cell_type": "code",
      "execution_count": 17,
      "metadata": {
        "id": "isE439WfmDJX",
        "colab": {
          "base_uri": "https://localhost:8080/"
        },
        "outputId": "38f7aa49-e5bc-4f8a-de7c-733ed3fd0ac3"
      },
      "outputs": [
        {
          "output_type": "stream",
          "name": "stderr",
          "text": [
            "Epoch: 01 -     loss: 5.895 -     ppl: 363.079 -     acc: 3.457%: 100%|██████████| 466/466 [00:33<00:00, 13.89it/s]\n",
            "Epoch: 01 - val_loss: 5.632 - val_ppl: 279.191 - val_acc: 3.750%: 100%|██████████| 16/16 [00:00<00:00, 29.80it/s]\n",
            "Epoch: 02 -     loss: 5.503 -     ppl: 245.316 -     acc: 3.919%: 100%|██████████| 466/466 [00:33<00:00, 13.98it/s]\n",
            "Epoch: 02 - val_loss: 5.373 - val_ppl: 215.529 - val_acc: 4.076%: 100%|██████████| 16/16 [00:00<00:00, 29.49it/s]\n",
            "Epoch: 03 -     loss: 5.251 -     ppl: 190.841 -     acc: 4.189%: 100%|██████████| 466/466 [00:33<00:00, 13.92it/s]\n",
            "Epoch: 03 - val_loss: 5.159 - val_ppl: 173.945 - val_acc: 4.466%: 100%|██████████| 16/16 [00:00<00:00, 30.03it/s]\n",
            "Epoch: 04 -     loss: 5.011 -     ppl: 150.040 -     acc: 4.433%: 100%|██████████| 466/466 [00:33<00:00, 13.97it/s]\n",
            "Epoch: 04 - val_loss: 4.993 - val_ppl: 147.320 - val_acc: 4.703%: 100%|██████████| 16/16 [00:00<00:00, 29.51it/s]\n",
            "Epoch: 05 -     loss: 4.780 -     ppl: 119.052 -     acc: 4.664%: 100%|██████████| 466/466 [00:33<00:00, 13.88it/s]\n",
            "Epoch: 05 - val_loss: 4.911 - val_ppl: 135.799 - val_acc: 4.929%: 100%|██████████| 16/16 [00:00<00:00, 29.82it/s]\n",
            "Epoch: 06 -     loss: 4.554 -     ppl: 95.031 -     acc: 4.907%: 100%|██████████| 466/466 [00:33<00:00, 13.93it/s]\n",
            "Epoch: 06 - val_loss: 4.875 - val_ppl: 131.000 - val_acc: 5.041%: 100%|██████████| 16/16 [00:00<00:00, 29.32it/s]\n",
            "Epoch: 07 -     loss: 4.354 -     ppl: 77.798 -     acc: 5.145%: 100%|██████████| 466/466 [00:33<00:00, 13.93it/s]\n",
            "Epoch: 07 - val_loss: 4.868 - val_ppl: 130.097 - val_acc: 5.071%: 100%|██████████| 16/16 [00:00<00:00, 29.45it/s]\n",
            "Epoch: 08 -     loss: 4.156 -     ppl: 63.807 -     acc: 5.398%: 100%|██████████| 466/466 [00:33<00:00, 13.94it/s]\n",
            "Epoch: 08 - val_loss: 4.861 - val_ppl: 129.160 - val_acc: 5.124%: 100%|██████████| 16/16 [00:00<00:00, 29.67it/s]\n",
            "Epoch: 09 -     loss: 4.000 -     ppl: 54.584 -     acc: 5.613%: 100%|██████████| 466/466 [00:33<00:00, 13.89it/s]\n",
            "Epoch: 09 - val_loss: 4.881 - val_ppl: 131.700 - val_acc: 5.200%: 100%|██████████| 16/16 [00:00<00:00, 29.31it/s]\n"
          ]
        },
        {
          "output_type": "stream",
          "name": "stdout",
          "text": [
            "Last improvement since epoch 8\n",
            "\n",
            "Decaying learning rate.\n",
            "The new learning rate is 0.000900\n",
            "\n"
          ]
        },
        {
          "output_type": "stream",
          "name": "stderr",
          "text": [
            "Epoch: 10 -     loss: 3.817 -     ppl: 45.461 -     acc: 5.908%: 100%|██████████| 466/466 [00:33<00:00, 13.94it/s]\n",
            "Epoch: 10 - val_loss: 4.863 - val_ppl: 129.378 - val_acc: 5.282%: 100%|██████████| 16/16 [00:00<00:00, 29.68it/s]"
          ]
        },
        {
          "output_type": "stream",
          "name": "stdout",
          "text": [
            "Last improvement since epoch 8\n"
          ]
        },
        {
          "output_type": "stream",
          "name": "stderr",
          "text": [
            "\n"
          ]
        }
      ],
      "source": [
        "history = trainer.train(n_epochs=N_EPOCHS, grad_clip=GRAD_CLIP, tf_ratio=TF_RATIO)"
      ]
    },
    {
      "cell_type": "code",
      "execution_count": 18,
      "metadata": {
        "id": "t-8rAeqiqjd7",
        "colab": {
          "base_uri": "https://localhost:8080/",
          "height": 338
        },
        "outputId": "fab2442e-c5bc-45a2-db79-e4c8f3b1cfe3"
      },
      "outputs": [
        {
          "output_type": "display_data",
          "data": {
            "image/png": "[encoded data removed]",
            "text/plain": [
              "<Figure size 1080x360 with 3 Axes>"
            ]
          },
          "metadata": {
            "needs_background": "light"
          }
        }
      ],
      "source": [
        "_, axes = plt.subplots(1, 3, figsize=(15, 5))\n",
        "\n",
        "axes[0].plot(history['loss'], label='train')\n",
        "axes[0].plot(history['val_loss'], label='valid')\n",
        "axes[0].set_title('Loss history')\n",
        "axes[0].set_xlabel('Epoch')\n",
        "axes[0].set_ylabel('Loss')\n",
        "axes[0].grid(True)\n",
        "axes[0].legend()\n",
        "\n",
        "axes[1].plot(history['ppl'], label='train')\n",
        "axes[1].plot(history['val_ppl'], label='valid')\n",
        "axes[1].set_title('Perplexity history')\n",
        "axes[1].set_xlabel('Epoch')\n",
        "axes[1].set_ylabel('Perplexity')\n",
        "axes[1].grid(True)\n",
        "axes[1].legend()\n",
        "\n",
        "axes[2].plot(history['acc'], label='train')\n",
        "axes[2].plot(history['val_acc'], label='valid')\n",
        "axes[2].set_title('Top-5 Accuracy & BLEU-4 history')\n",
        "axes[2].set_xlabel('Epoch')\n",
        "axes[2].set_ylabel('Accuracy & BLEU-4 (%)')\n",
        "axes[2].grid(True)\n",
        "axes[2].legend()\n",
        "\n",
        "plt.show()"
      ]
    },
    {
      "cell_type": "markdown",
      "metadata": {
        "id": "UIqN5273qP0L"
      },
      "source": [
        "# Evaluation "
      ]
    },
    {
      "cell_type": "markdown",
      "source": [
        "## Beam search & BLEU score"
      ],
      "metadata": {
        "id": "dSPH8vZYkb5O"
      }
    },
    {
      "cell_type": "code",
      "execution_count": 19,
      "metadata": {
        "id": "PPgXr4ii_MD9"
      },
      "outputs": [],
      "source": [
        "#find the best path + defining Node\n",
        "def find_path(tree):\n",
        "    path = []\n",
        "    for nodes in reversed(tree):\n",
        "        if len(path) == 0:\n",
        "            path.append(nodes[0])\n",
        "        else:\n",
        "            parent_id = path[-1].parent_id\n",
        "            for node in nodes:\n",
        "                if node.id == parent_id:\n",
        "                    path.append(node)\n",
        "    return path\n",
        "\n",
        "def find_best_path(tree):\n",
        "    best = []\n",
        "    for nodes in reversed(tree):\n",
        "        if len(best) == 0:\n",
        "            best.append(nodes[0])\n",
        "        else:\n",
        "            nodes_eos = []\n",
        "            parent_id = best[-1].parent_id\n",
        "            for node in nodes:\n",
        "                if node.eos:\n",
        "                    nodes_eos.append(node)\n",
        "                if node.id == parent_id:\n",
        "                    best.append(node)\n",
        "            if len(nodes_eos) > 0:\n",
        "                candidates = sorted([best[-1], *nodes_eos],\n",
        "                                    key=lambda node: node.logps,\n",
        "                                    reverse=True)\n",
        "                candidate = candidates[0]\n",
        "                if candidate.eos:\n",
        "                    best = [candidate]\n",
        "    return best\n",
        "\n",
        "class Node:\n",
        "    id_ = 0\n",
        "    \n",
        "    def __init__(self, token, states, logp=0., parent=None, eos=False):\n",
        "        self.__id = self.__class__.id_\n",
        "        self.__token = token\n",
        "        self.__states = states\n",
        "        self.__logp = logp\n",
        "        self.__parent_id = None if parent is None else parent.id\n",
        "        self.__eos = eos\n",
        "        self.__level = 0 if parent is None else parent.level + 1\n",
        "        self.__logps = logp if parent is None else parent.logps + logp\n",
        "        self.__class__.id_ += 1\n",
        "        \n",
        "    def __str__(self):\n",
        "        return f'Node[id={self.__id}, ' + \\\n",
        "                    f'index={EN.vocab.itos[self.__token.cpu().item()]}, ' + \\\n",
        "                    f'logp={self.__logp}, ' + \\\n",
        "                    f'logps={self.__logps}, ' + \\\n",
        "                    f'parent_id={self.__parent_id}, ' + \\\n",
        "                    f'level={self.__level}]'\n",
        "    \n",
        "    @property\n",
        "    def token(self):\n",
        "        return self.__token\n",
        "    \n",
        "    @token.setter\n",
        "    def token(self, token):\n",
        "        self.__token = token\n",
        "    \n",
        "    @property\n",
        "    def parent_id(self):\n",
        "        return self.__parent_id\n",
        "    \n",
        "    @parent_id.setter\n",
        "    def parent_id(self, parent_id):\n",
        "        self.__parent_id = parent_id\n",
        "        \n",
        "    @property\n",
        "    def id(self):\n",
        "        return self.__id\n",
        "    \n",
        "    @id.setter\n",
        "    def id(self, id_):\n",
        "        self.__id = id_\n",
        "    \n",
        "    @property\n",
        "    def token(self):\n",
        "        return self.__token\n",
        "    \n",
        "    @token.setter\n",
        "    def token(self, token):\n",
        "        self.__token = token\n",
        "    \n",
        "    @property\n",
        "    def states(self):\n",
        "        return self.__states\n",
        "    \n",
        "    @states.setter\n",
        "    def states(self, states):\n",
        "        self.__states = states\n",
        "      \n",
        "    @property\n",
        "    def eos(self):\n",
        "        return self.__eos\n",
        "    \n",
        "    @eos.setter\n",
        "    def eos(self, eos):\n",
        "        self.__eos = eos\n",
        "    \n",
        "    @property\n",
        "    def logps(self):\n",
        "        return self.__logps\n",
        "    \n",
        "    @logps.setter\n",
        "    def logps(self, logps):\n",
        "        self.__logps = logps\n",
        "        \n",
        "    @property\n",
        "    def level(self):\n",
        "        return self.__level\n",
        "    \n",
        "    @level.setter\n",
        "    def level(self, level):\n",
        "        self.__level = level"
      ]
    },
    {
      "cell_type": "code",
      "execution_count": 20,
      "metadata": {
        "id": "axn3AumMmkvE"
      },
      "outputs": [],
      "source": [
        "def evaluate(model, data, beam_size, French_field, dest_field, max_len, device):\n",
        "    French_sentences = [*map(lambda example: example.French, data.examples)]\n",
        "    dest_sentences = [*map(lambda example: example.English, data.examples)]\n",
        "    data = [*zip([*map(lambda word_list: French_field.process([word_list]), French_sentences)],\n",
        "                 [*map(lambda word_list: dest_field.process([word_list]), dest_sentences)])]\n",
        "    references, hypotheses, sources = [], [], []\n",
        "    model.eval()\n",
        "    with torch.no_grad():\n",
        "        for i, ((French_sequence, French_length), (dest_sequence, dest_length)) in tqdm.tqdm(enumerate(data), total=len(data)):\n",
        "            French_sequence, French_length = French_sequence.to(device), French_length.to(device)\n",
        "            dest_sequence, dest_length = dest_sequence.to(device), dest_length.to(device)\n",
        "            \n",
        "            # Encoding\n",
        "            h_state = model.encoder(input_sequences=French_sequence, sequence_lengths=French_length) # Encode\n",
        "            h_state = model.init_h0(h_state.permute(1, 2, 0)) # [batch_size, hidden_size, n_layers]\n",
        "            h_state = h_state.permute(2, 0, 1) # [n_layers, batch_size, hidden_size]\n",
        "\n",
        "            # Decoding\n",
        "            tree = [[Node(token=torch.LongTensor([dest_field.vocab.stoi[dest_field.init_token]]).to(device), states=(h_state,))]]\n",
        "            for _ in range(max_len):\n",
        "                next_nodes = []\n",
        "                for node in tree[-1]:\n",
        "                    if node.eos: # Skip eos token\n",
        "                        continue\n",
        "                    logit, h_state = model.decoder(input_word_index=node.token, h_state_prev=node.states[0].contiguous()) # Decode\n",
        "                    # logit: [1, vocab_size]\n",
        "                    # h_state: [n_layers, 1, hidden_size]\n",
        "                    # c_state: [n_layers, 1, hidden_size]\n",
        "\n",
        "                    logp = F.log_softmax(logit, dim=1).squeeze(dim=0) # [vocab_size] Get scores                    \n",
        "                    topk_logps, topk_tokens = torch.topk(logp, beam_size) # Get top k tokens & logps\n",
        "                    for k in range(beam_size):\n",
        "                        next_nodes.append(Node(token=topk_tokens[k, None], states=(h_state,),\n",
        "                                               logp=topk_logps[k, None].cpu().item(), parent=node,\n",
        "                                               eos=topk_tokens[k].cpu().item() == dest_field.vocab[dest_field.eos_token]))\n",
        "                if len(next_nodes) == 0:\n",
        "                    break\n",
        "                next_nodes = sorted(next_nodes, key=lambda node: node.logps, reverse=True) # Sort next_nodes to get the best\n",
        "                tree.append(next_nodes[:beam_size]) # Update the tree\n",
        "                \n",
        "            best_path = find_best_path(tree) # Find the best path of the tree\n",
        "\n",
        "            # Get the translation\n",
        "            pred_translated = [*map(lambda node: dest_field.vocab.itos[node.token], best_path)]\n",
        "            pred_translated = [*filter(lambda word: word not in [dest_field.init_token, dest_field.eos_token], pred_translated[::-1])]\n",
        "\n",
        "            hypotheses.append(pred_translated) # Update hypotheses\n",
        "\n",
        "            # Update references\n",
        "            references.append([[dest_field.vocab.itos[indice] for indice in dest_sequence if indice not in (\n",
        "                dest_field.vocab.stoi[dest_field.init_token],\n",
        "                dest_field.vocab.stoi[dest_field.eos_token],\n",
        "                dest_field.vocab.stoi[dest_field.pad_token]\n",
        "            )]])\n",
        "\n",
        "            # Update sources\n",
        "            sources.append([French_field.vocab.itos[indice]  for indice in French_sequence  if indice not in (\n",
        "                French_field.vocab.stoi[French_field.init_token],\n",
        "                French_field.vocab.stoi[French_field.eos_token],\n",
        "                French_field.vocab.stoi[French_field.pad_token]\n",
        "            )])\n",
        "    \n",
        "        assert len(hypotheses) == len(references) == len(sources)\n",
        "        bleu4 = bleu_score(hypotheses, references, max_n=4, weights=[0.25, 0.25, 0.25, 0.25]) # Calculate BLEU-4 score\n",
        "    return hypotheses, references, sources, bleu4"
      ]
    },
    {
      "cell_type": "code",
      "source": [
        "def evaluate(model, data, beam_size, src_field, dest_field, max_len, device):\n",
        "    src_sentences = [*map(lambda example: example.src, data.examples)]\n",
        "    dest_sentences = [*map(lambda example: example.trg, data.examples)]\n",
        "    data = [*zip([*map(lambda word_list: src_field.process([word_list]), src_sentences)],\n",
        "                 [*map(lambda word_list: dest_field.process([word_list]), dest_sentences)])]\n",
        "    references, hypotheses, sources = [], [], []\n",
        "    model.eval()\n",
        "    with torch.no_grad():\n",
        "        for i, ((src_sequence, src_length), (dest_sequence, dest_length)) in tqdm.tqdm(enumerate(data), total=len(data)):\n",
        "            src_sequence, src_length = src_sequence.to(device), src_length.to(device)\n",
        "            dest_sequence, dest_length = dest_sequence.to(device), dest_length.to(device)\n",
        "            \n",
        "            # Encoding\n",
        "            h_state = model.encoder(input_sequences=src_sequence, sequence_lengths=src_length) # Encode\n",
        "            h_state = model.init_h0(h_state.permute(1, 2, 0)) # [batch_size, hidden_size, n_layers]\n",
        "            h_state = h_state.permute(2, 0, 1) # [n_layers, batch_size, hidden_size]\n",
        "\n",
        "            # Decoding\n",
        "            tree = [[Node(token=torch.LongTensor([dest_field.vocab.stoi[dest_field.init_token]]).to(device), states=(h_state,))]]\n",
        "            for _ in range(max_len):\n",
        "                next_nodes = []\n",
        "                for node in tree[-1]:\n",
        "                    if node.eos: # Skip eos token\n",
        "                        continue\n",
        "                    logit, h_state = model.decoder(input_word_index=node.token, h_state_prev=node.states[0].contiguous()) # Decode\n",
        "                    # logit: [1, vocab_size]\n",
        "                    # h_state: [n_layers, 1, hidden_size]\n",
        "                    # c_state: [n_layers, 1, hidden_size]\n",
        "\n",
        "                    logp = F.log_softmax(logit, dim=1).squeeze(dim=0) # [vocab_size] Get scores                    \n",
        "                    topk_logps, topk_tokens = torch.topk(logp, beam_size) # Get top k tokens & logps\n",
        "                    for k in range(beam_size):\n",
        "                        next_nodes.append(Node(token=topk_tokens[k, None], states=(h_state,),\n",
        "                                               logp=topk_logps[k, None].cpu().item(), parent=node,\n",
        "                                               eos=topk_tokens[k].cpu().item() == dest_field.vocab[dest_field.eos_token]))\n",
        "                if len(next_nodes) == 0:\n",
        "                    break\n",
        "                next_nodes = sorted(next_nodes, key=lambda node: node.logps, reverse=True) # Sort next_nodes to get the best\n",
        "                tree.append(next_nodes[:beam_size]) # Update the tree\n",
        "                \n",
        "            best_path = find_best_path(tree) # Find the best path of the tree\n",
        "\n",
        "            # Get the translation\n",
        "            pred_translated = [*map(lambda node: dest_field.vocab.itos[node.token], best_path)]\n",
        "            pred_translated = [*filter(lambda word: word not in [dest_field.init_token, dest_field.eos_token], pred_translated[::-1])]\n",
        "\n",
        "            hypotheses.append(pred_translated) # Update hypotheses\n",
        "\n",
        "            # Update references\n",
        "            references.append([[dest_field.vocab.itos[indice] for indice in dest_sequence if indice not in (\n",
        "                dest_field.vocab.stoi[dest_field.init_token],\n",
        "                dest_field.vocab.stoi[dest_field.eos_token],\n",
        "                dest_field.vocab.stoi[dest_field.pad_token]\n",
        "            )]])\n",
        "\n",
        "            # Update sources\n",
        "            sources.append([src_field.vocab.itos[indice]  for indice in src_sequence  if indice not in (\n",
        "                src_field.vocab.stoi[src_field.init_token],\n",
        "                src_field.vocab.stoi[src_field.eos_token],\n",
        "                src_field.vocab.stoi[src_field.pad_token]\n",
        "            )])\n",
        "    \n",
        "        assert len(hypotheses) == len(references) == len(sources)\n",
        "        bleu4 = bleu_score(hypotheses, references, max_n=4, weights=[0.25, 0.25, 0.25, 0.25]) # Calculate BLEU-4 score\n",
        "    return hypotheses, references, sources, bleu4"
      ],
      "metadata": {
        "id": "qEhLBJWG0Xmj"
      },
      "execution_count": 21,
      "outputs": []
    },
    {
      "cell_type": "code",
      "execution_count": 22,
      "metadata": {
        "id": "g-lc-nLat-gI",
        "colab": {
          "base_uri": "https://localhost:8080/"
        },
        "outputId": "74e8fa51-9598-4215-d97c-c5cf1fdac3d4"
      },
      "outputs": [
        {
          "output_type": "execute_result",
          "data": {
            "text/plain": [
              "SeqToSeqNet(\n",
              "  (encoder): EncoderLayer(\n",
              "    (embedding): Embedding(24663, 300)\n",
              "    (gru): GRU(300, 256, num_layers=2, dropout=0.25, bidirectional=True)\n",
              "  )\n",
              "  (decoder): DecoderLayer(\n",
              "    (embedding): Embedding(8777, 300)\n",
              "    (gru): GRU(300, 256, num_layers=2, dropout=0.25)\n",
              "    (fc): Linear(in_features=256, out_features=8777, bias=True)\n",
              "  )\n",
              "  (init_h0): Linear(in_features=4, out_features=2, bias=True)\n",
              ")"
            ]
          },
          "metadata": {},
          "execution_count": 22
        }
      ],
      "source": [
        "seq2seq.load_state_dict(torch.load('seq2seq.pth'))\n",
        "seq2seq.to(DEVICE)"
      ]
    },
    {
      "cell_type": "code",
      "source": [
        "bleu_scores = []\n",
        "for beam_size in [1, 3, 5]:\n",
        "    for name, data in [('validation', valid), ('test', test)]:\n",
        "        _, _, _, bleu4 = evaluate(model=seq2seq, data=data, beam_size=beam_size, src_field=FR_TEXT, dest_field=EN_TEXT, max_len=50, device=DEVICE)\n",
        "        bleu_scores.append((beam_size, name, bleu4))\n",
        "        \n",
        "for bleu_score in bleu_scores:\n",
        "    print(f'BLEU-4: {bleu_score[2]*100:.3f}% with beam_size={bleu_score[0]} on {bleu_score[1]} data')"
      ],
      "metadata": {
        "id": "VAW5R1E6z3Pu",
        "colab": {
          "base_uri": "https://localhost:8080/"
        },
        "outputId": "71045395-fa19-446e-922d-f4b8e1133020"
      },
      "execution_count": 23,
      "outputs": [
        {
          "output_type": "stream",
          "name": "stderr",
          "text": [
            "100%|██████████| 996/996 [00:10<00:00, 99.47it/s]\n",
            "100%|██████████| 987/987 [00:09<00:00, 99.70it/s]\n",
            "100%|██████████| 996/996 [00:51<00:00, 19.43it/s]\n",
            "100%|██████████| 987/987 [00:51<00:00, 19.31it/s]\n",
            "100%|██████████| 996/996 [01:46<00:00,  9.37it/s]\n",
            "100%|██████████| 987/987 [01:44<00:00,  9.48it/s]\n"
          ]
        },
        {
          "output_type": "stream",
          "name": "stdout",
          "text": [
            "BLEU-4: 4.753% with beam_size=1 on validation data\n",
            "BLEU-4: 4.254% with beam_size=1 on test data\n",
            "BLEU-4: 5.200% with beam_size=3 on validation data\n",
            "BLEU-4: 4.690% with beam_size=3 on test data\n",
            "BLEU-4: 5.099% with beam_size=5 on validation data\n",
            "BLEU-4: 4.943% with beam_size=5 on test data\n"
          ]
        }
      ]
    },
    {
      "cell_type": "markdown",
      "metadata": {
        "id": "CQvQiVINwb_e"
      },
      "source": [
        "## Inference"
      ]
    },
    {
      "cell_type": "code",
      "execution_count": 24,
      "metadata": {
        "id": "euSkrQikvFU4"
      },
      "outputs": [],
      "source": [
        "def translate(sentences, model, beam_size, src_field, dest_field, max_len, device):\n",
        "    if isinstance(sentences, list):\n",
        "        sentences = [*map(src_field.preprocess, sentences)]\n",
        "        targets = None\n",
        "    if isinstance(sentences, Dataset):\n",
        "        targets = [*map(lambda example: ' '.join(example.trg), sentences.examples)]\n",
        "        sentences = [*map(lambda example: example.src, sentences.examples)]\n",
        "    data = [*map(lambda word_list: src_field.process([word_list]), sentences)]\n",
        "    translated_sentences, pred_logps = [], []\n",
        "    model.eval()\n",
        "    with torch.no_grad():\n",
        "        for i, (src_sequence, src_length) in tqdm.tqdm(enumerate(data), total=len(data)):\n",
        "            src_sequence, src_length = src_sequence.to(device), src_length.to(device)\n",
        "            h_state = model.encoder(input_sequences=src_sequence, sequence_lengths=src_length) # Encode\n",
        "            h_state = model.init_h0(h_state.permute(1, 2, 0)) # [batch_size, hidden_size, n_layers]\n",
        "            h_state = h_state.permute(2, 0, 1) # [n_layers, batch_size, hidden_size]\n",
        "            tree = [[Node(token=torch.LongTensor([dest_field.vocab.stoi[dest_field.init_token]]).to(device), states=(h_state,))]]\n",
        "            for _ in range(max_len):\n",
        "                next_nodes = []\n",
        "                for node in tree[-1]:\n",
        "                    if node.eos: # Skip eos token\n",
        "                        continue\n",
        "                    logit, h_state = model.decoder(input_word_index=node.token, h_state_prev=node.states[0].contiguous())\n",
        "                    logp = F.log_softmax(logit, dim=1).squeeze(dim=0)                   \n",
        "                    topk_logps, topk_tokens = torch.topk(logp, beam_size)\n",
        "                    for k in range(beam_size):\n",
        "                        next_nodes.append(Node(token=topk_tokens[k, None], states=(h_state,),\n",
        "                                               logp=topk_logps[k, None].cpu().item(), parent=node,\n",
        "                                               eos=topk_tokens[k].cpu().item() == dest_field.vocab[dest_field.eos_token]))\n",
        "                if len(next_nodes) == 0:\n",
        "                    break\n",
        "                next_nodes = sorted(next_nodes, key=lambda node: node.logps, reverse=True)\n",
        "                tree.append(next_nodes[:beam_size])\n",
        "            best_path = find_best_path(tree)\n",
        "            # Get the translation\n",
        "            pred_translated = [*map(lambda node: dest_field.vocab.itos[node.token], best_path)]\n",
        "            pred_translated = [*filter(lambda word: word not in [\n",
        "                dest_field.init_token, dest_field.eos_token\n",
        "            ], pred_translated[::-1])]\n",
        "            translated_sentences.append(' '.join(pred_translated))\n",
        "            # Get probabilities\n",
        "            pred_logps.append(sum([*map(lambda node: node.logps, best_path)]))\n",
        "        sentences = [*map(lambda sentence: ' '.join(sentence), sentences)]\n",
        "    return sentences, translated_sentences, targets, pred_logps"
      ]
    },
    {
      "cell_type": "code",
      "execution_count": 25,
      "metadata": {
        "id": "uA8qEvYtzZn0",
        "colab": {
          "base_uri": "https://localhost:8080/",
          "height": 987
        },
        "outputId": "f78612f2-013e-4826-d7d5-6a22b334bb3f"
      },
      "outputs": [
        {
          "output_type": "stream",
          "name": "stderr",
          "text": [
            "100%|██████████| 987/987 [01:41<00:00,  9.72it/s]"
          ]
        },
        {
          "output_type": "stream",
          "name": "stdout",
          "text": [
            "[645 294 864 903 510  27 151 550 190 855]\n",
            "\n"
          ]
        },
        {
          "output_type": "stream",
          "name": "stderr",
          "text": [
            "\n"
          ]
        },
        {
          "output_type": "display_data",
          "data": {
            "text/html": [
              "<p><span style=\"color:black\"><b>Source:</b> trpp douvent cependaat me coaseil wet dr cotr led decisioas eveatuellement adoptres qar cpnsensus ai seia di parlrment euroqeen</span><br /><span style=\"color:black\"><b>Ground truth translation:</b> but all too often the council puts to one side what has been decided within the european parliament by consensus or not as the case may be</span><br /><span style=\"color:pink\"><b>Predicted translation:</b> however the the council s council to the to the the of of the european parliament</span></p>"
            ],
            "text/plain": [
              "<IPython.core.display.HTML object>"
            ]
          },
          "metadata": {}
        },
        {
          "output_type": "stream",
          "name": "stdout",
          "text": [
            "====================================================================================================\n"
          ]
        },
        {
          "output_type": "display_data",
          "data": {
            "text/html": [
              "<p><span style=\"color:black\"><b>Source:</b> dzns me czdre dr m iniyiative smim ma simplificatioa f iatrastat rst desigaee comwe in prpjet pimote</span><br /><span style=\"color:black\"><b>Ground truth translation:</b> within the framework of the slim initiative the simplification of intrastat has been set up as a trial project</span><br /><span style=\"color:pink\"><b>Predicted translation:</b> in the the the the of the <unk> of the the is a <unk> of <unk></span></p>"
            ],
            "text/plain": [
              "<IPython.core.display.HTML object>"
            ]
          },
          "metadata": {}
        },
        {
          "output_type": "stream",
          "name": "stdout",
          "text": [
            "====================================================================================================\n"
          ]
        },
        {
          "output_type": "display_data",
          "data": {
            "text/html": [
              "<p><span style=\"color:black\"><b>Source:</b> ma promption fe lz cultire di tabav f in cotr ey m interdictipn fe lz publicote dr m autrr vonstituent uae contradivtion insomuble</span><br /><span style=\"color:black\"><b>Ground truth translation:</b> there is an irresolvable contradiction between the promotion of tobacco cultivation on the one hand and the advertising ban on the other</span><br /><span style=\"color:pink\"><b>Predicted translation:</b> the quality of the quality of the the of of the the of of the</span></p>"
            ],
            "text/plain": [
              "<IPython.core.display.HTML object>"
            ]
          },
          "metadata": {}
        },
        {
          "output_type": "stream",
          "name": "stdout",
          "text": [
            "====================================================================================================\n"
          ]
        },
        {
          "output_type": "display_data",
          "data": {
            "text/html": [
              "<p><span style=\"color:black\"><b>Source:</b> notte socoete sr doiy ea ceryains domainrs fe fixrr drs barrietes morzles z ae pad transgressrr</span><br /><span style=\"color:black\"><b>Ground truth translation:</b> our society has the duty in certain areas to set strict moral limits</span><br /><span style=\"color:pink\"><b>Predicted translation:</b> our citizens must turn to ensure that they do not live</span></p>"
            ],
            "text/plain": [
              "<IPython.core.display.HTML object>"
            ]
          },
          "metadata": {}
        },
        {
          "output_type": "stream",
          "name": "stdout",
          "text": [
            "====================================================================================================\n"
          ]
        },
        {
          "output_type": "display_data",
          "data": {
            "text/html": [
              "<p><span style=\"color:black\"><b>Source:</b> lz politoque euroqeenne communr fe securitr rt fe defrnse iwplique uae relztion etroote fortr rt transpzrente entrr m unipn eurppeenne rt m otaa</span><br /><span style=\"color:black\"><b>Ground truth translation:</b> the common european security and defence policy requires a close intense and transparent relationship between the european union and nato</span><br /><span style=\"color:pink\"><b>Predicted translation:</b> the european union and economic policy is a coherent of economic economic and economic policy and economic policy</span></p>"
            ],
            "text/plain": [
              "<IPython.core.display.HTML object>"
            ]
          },
          "metadata": {}
        },
        {
          "output_type": "stream",
          "name": "stdout",
          "text": [
            "====================================================================================================\n"
          ]
        },
        {
          "output_type": "display_data",
          "data": {
            "text/html": [
              "<p><span style=\"color:black\"><b>Source:</b> ke nr qeux doac sue voud proposrr f ea prendte connaossance ey ke we tirns z voyre disqosition poir ea disvuter</span><br /><span style=\"color:black\"><b>Ground truth translation:</b> i can only suggest that you familiarise yourselves with these documents and i shall remain available to discuss the matter</span><br /><span style=\"color:pink\"><b>Predicted translation:</b> i can therefore i can accept you and i can be able to see in the</span></p>"
            ],
            "text/plain": [
              "<IPython.core.display.HTML object>"
            ]
          },
          "metadata": {}
        },
        {
          "output_type": "stream",
          "name": "stdout",
          "text": [
            "====================================================================================================\n"
          ]
        },
        {
          "output_type": "display_data",
          "data": {
            "text/html": [
              "<p><span style=\"color:black\"><b>Source:</b> ve qrocessus z etr eatame ai royzumeuni</span><br /><span style=\"color:black\"><b>Ground truth translation:</b> that is a process that has been undertaken within the united kingdom</span><br /><span style=\"color:pink\"><b>Predicted translation:</b> this has has been taken at the</span></p>"
            ],
            "text/plain": [
              "<IPython.core.display.HTML object>"
            ]
          },
          "metadata": {}
        },
        {
          "output_type": "stream",
          "name": "stdout",
          "text": [
            "====================================================================================================\n"
          ]
        },
        {
          "output_type": "display_data",
          "data": {
            "text/html": [
              "<p><span style=\"color:black\"><b>Source:</b> me cowmissaire d esy loaguement etendi sut lr suket avrc raidon</span><br /><span style=\"color:black\"><b>Ground truth translation:</b> the commissioner spent quite a long time talking about this and i think he had every reason to</span><br /><span style=\"color:pink\"><b>Predicted translation:</b> the british fought has been <unk> on this paper</span></p>"
            ],
            "text/plain": [
              "<IPython.core.display.HTML object>"
            ]
          },
          "metadata": {}
        },
        {
          "output_type": "stream",
          "name": "stdout",
          "text": [
            "====================================================================================================\n"
          ]
        },
        {
          "output_type": "display_data",
          "data": {
            "text/html": [
              "<p><span style=\"color:black\"><b>Source:</b> ves omportations couvrrnt entretemqs quemque fu marchr fe detzil dr ma boere ea ginlande</span><br /><span style=\"color:black\"><b>Ground truth translation:</b> in the meantime such imports account for some of finland s beer retail market</span><br /><span style=\"color:pink\"><b>Predicted translation:</b> these foundation <unk> in the of of the in the market of the in the market of the</span></p>"
            ],
            "text/plain": [
              "<IPython.core.display.HTML object>"
            ]
          },
          "metadata": {}
        },
        {
          "output_type": "stream",
          "name": "stdout",
          "text": [
            "====================================================================================================\n"
          ]
        },
        {
          "output_type": "display_data",
          "data": {
            "text/html": [
              "<p><span style=\"color:black\"><b>Source:</b> contraitement z newtpn funn jr tirns z faore remarquet sue ma qurstion a rst qas dr dispoder fe fouble normrs</span><br /><span style=\"color:black\"><b>Ground truth translation:</b> i disagree with newton dunn it is not a question of double standards</span><br /><span style=\"color:pink\"><b>Predicted translation:</b> mrs stated i would like to say that it is no no to to the</span></p>"
            ],
            "text/plain": [
              "<IPython.core.display.HTML object>"
            ]
          },
          "metadata": {}
        },
        {
          "output_type": "stream",
          "name": "stdout",
          "text": [
            "====================================================================================================\n"
          ]
        }
      ],
      "source": [
        "sentences, translated_sentences, dest_sentences, pred_logps = translate(sentences=test, model=seq2seq, beam_size=5, src_field=FR_TEXT,\n",
        "                                                                        dest_field=EN_TEXT, max_len=50, device=DEVICE)\n",
        "indexes = np.random.choice(len(test.examples), size=10, replace=False)\n",
        "print(indexes)\n",
        "print()\n",
        "for i in indexes:\n",
        "    html = f'<p><span style=\"color:black\"><b>Source:</b> {sentences[i]}</span><br />'\n",
        "    html += f'<span style=\"color:black\"><b>Ground truth translation:</b> {dest_sentences[i]}</span><br />'\n",
        "    html += f'<span style=\"color:pink\"><b>Predicted translation:</b> {translated_sentences[i]}</span></p>'\n",
        "    display(HTML(html))\n",
        "    print('='*100)"
      ]
    }
  ],
  "metadata": {
    "accelerator": "GPU",
    "colab": {
      "collapsed_sections": [],
      "machine_shape": "hm",
      "name": "4_noise_seq2seq_RNN.ipynb",
      "provenance": [],
      "toc_visible": true
    },
    "kernelspec": {
      "display_name": "Python 3",
      "name": "python3"
    },
    "language_info": {
      "codemirror_mode": {
        "name": "ipython",
        "version": 3
      },
      "file_extension": ".py",
      "mimetype": "text/x-python",
      "name": "python",
      "nbconvert_exporter": "python",
      "pygments_lexer": "ipython3",
      "version": "3.9.5"
    }
  },
  "nbformat": 4,
  "nbformat_minor": 0
}